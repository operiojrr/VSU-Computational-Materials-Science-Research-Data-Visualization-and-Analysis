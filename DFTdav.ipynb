{
  "nbformat": 4,
  "nbformat_minor": 0,
  "metadata": {
    "colab": {
      "provenance": [],
      "authorship_tag": "ABX9TyNAwcR2Y+JFVPouLm9SEiZq",
      "include_colab_link": true
    },
    "kernelspec": {
      "name": "python3",
      "display_name": "Python 3"
    },
    "language_info": {
      "name": "python"
    }
  },
  "cells": [
    {
      "cell_type": "markdown",
      "metadata": {
        "id": "view-in-github",
        "colab_type": "text"
      },
      "source": [
        "<a href=\"https://colab.research.google.com/github/operiojrr/VSU-Computational-Materials-Science-Research-Data-Visualization-and-Analysis/blob/main/DFTdav.ipynb\" target=\"_parent\"><img src=\"https://colab.research.google.com/assets/colab-badge.svg\" alt=\"Open In Colab\"/></a>"
      ]
    },
    {
      "cell_type": "markdown",
      "source": [
        "DFT DATA ANALYSIS AND VISUALIZATION NOTEBOOK\n",
        "\n",
        "Operio, Jericho Ross R."
      ],
      "metadata": {
        "id": "aNkyDlMcidMA"
      }
    },
    {
      "cell_type": "markdown",
      "source": [
        "BS Chemistry Class of 2025"
      ],
      "metadata": {
        "id": "nb7VWBAfjZsS"
      }
    },
    {
      "cell_type": "markdown",
      "source": [
        "Founding Member, VSU Theoretical and Computational Research Group"
      ],
      "metadata": {
        "id": "K5yr3kGojWqj"
      }
    },
    {
      "cell_type": "markdown",
      "source": [
        "This Colab notebook provides the Python codes for visualizing and analyzing density-functional theory (DFT) data generated with Quantum ESPRESSO (QE). Its applications are limited to plotting structural and electronic properties. For codes related to optical and thermoelectric property analysis, please consult Mr. Jude Eric R. Operio. For properties outside the scope previously mentioned, you are encouraged to find other sources, or much better, build your own and contribute to the development of these notebooks. Note that this notebook does not provide explanations of the underlying definitions or theoretical concepts, as it is intended for users who already possess, or at least have, a working knowledge of DFT and Quantum ESPRESSO. With that understanding, you are encouraged to use and explore this notebook to its fullest potential."
      ],
      "metadata": {
        "id": "8PIgHUCLirEh"
      }
    },
    {
      "cell_type": "markdown",
      "source": [
        "REMINDERS:"
      ],
      "metadata": {
        "id": "jo5dwiu2nAk1"
      }
    },
    {
      "cell_type": "markdown",
      "source": [
        "1. Do not distribute this notebook without first informing the owner. Only authorized individuals are permitted to use it.\n",
        "2. Do not work directly on this notebook: instead, create and save a personal copy in your Google Drive and use that copy for your work."
      ],
      "metadata": {
        "id": "gy6m_F0znCsL"
      }
    },
    {
      "cell_type": "markdown",
      "source": [
        "I. CONVERGENCE TESTING"
      ],
      "metadata": {
        "id": "3staDAUTop9G"
      }
    },
    {
      "cell_type": "markdown",
      "source": [
        "In DFT calculations, the standard workflow begins with convergence testing to determine reliable values for the most fundamental parameters: the plane-wave cutoff energy (ecut) and the k-point (kp) grid/mesh. Establishing these ensures that all results are both accurate and computationally efficient. In this section, we present codes for plotting the ecut and kp dataset."
      ],
      "metadata": {
        "id": "FvUeZpyjoua4"
      }
    },
    {
      "cell_type": "markdown",
      "source": [
        "We begin by importing the required libraries. Once this step is completed, you will not need to re-import them for the remaining tasks. Simply press the arrow button on the upper-left corner of the next cell. When a check mark appears on the bracket beside the cell, it means the imports have been successfully executed. This same process applies to running all other code cells in the notebook. The time indicated beside the check mark tells you the runtime of the process."
      ],
      "metadata": {
        "id": "oUnws_NgpCjh"
      }
    },
    {
      "cell_type": "code",
      "source": [
        "import matplotlib.pyplot as plt # for plotting\n",
        "import matplotlib.font_manager as font_manager # for font selection\n",
        "from matplotlib.gridspec import GridSpec # when needed for creating grids in combined plots\n",
        "import numpy as np # for scientific computing\n",
        "from scipy.optimize import curve_fit # for model fitting"
      ],
      "metadata": {
        "id": "P5OfPP_8phI6"
      },
      "execution_count": null,
      "outputs": []
    },
    {
      "cell_type": "markdown",
      "source": [
        "Upload the .dat files containing the ecut values from your QE calculations. To do this, click the folder icon on the side panel and drag the files into the upload area. A warning prompt will appear—simply click OK. Keep in mind that the uploaded files are not stored permanently, so make sure not to delete your original copies, as you may need to re-upload them when necessary."
      ],
      "metadata": {
        "id": "KKrLDTPbp04W"
      }
    },
    {
      "cell_type": "code",
      "source": [
        "# Conversion factor from Rydberg to eV (the initial ecut values are in Ry: we convert first to eV for convention and also for consistency with QE results)\n",
        "RY_TO_EV = 13.605693122994\n",
        "\n",
        "# Load data\n",
        "ecut, ener_ry = np.loadtxt('/content/calc-ecut.dat', delimiter=None, unpack=True) # move the cursor to the file’s right side, click the three-dot icon, and select “Copy path.” Paste it inside the single quotes of this code line\n",
        "\n",
        "# Convert energy from Ry to eV\n",
        "ener_ev = ener_ry * RY_TO_EV\n",
        "\n",
        "# Set font style\n",
        "plt.rcParams['font.family'] = 'serif'\n",
        "plt.rcParams['font.serif'] = 'DejaVu Serif' # nearest font available to Times New Roman\n",
        "plt.rcParams['font.size'] = 8 # you can change this to your preferred size\n",
        "\n",
        "# Create plot\n",
        "plt.figure()\n",
        "plt.scatter(ecut, ener_ev, s=75, color='y') # you can change \"s\" to your preferred point size, and \"color\" to your preferred color\n",
        "\n",
        "# Draw horizontal line at final energy value (use last entry instead of fixed index)\n",
        "plt.axhline(ener_ev[-1], color='gray', linestyle='--')\n",
        "\n",
        "# Axis labels\n",
        "plt.xlabel('Cut-off energy (Ry)') # title for the x-axis\n",
        "plt.ylabel('Total energy (eV)') # title for the y-axis\n",
        "\n",
        "# Set x-axis range\n",
        "plt.xlim(0, 160) # change depending on the min and max of your ecut values; considering adding/subtracting a preferred value to the min and max so that the whole plot is drawn within\n",
        "\n",
        "# Automatically set y-axis limits with padding\n",
        "y_min = np.min(ener_ev)\n",
        "y_max = np.max(ener_ev)\n",
        "y_range = y_max - y_min\n",
        "padding = 0.05 * y_range\n",
        "plt.ylim(y_min - padding, y_max + padding)\n",
        "plt.savefig('plot-ecut.png', dpi=300) # change to preferred image filename; we use dpi=300 to produce HD images\n",
        "# if you are testing the code first and want to see it first without accumulating images, you can comment this line out by placing a # plt.savefig(); if you are satisfied, you can remove the # to save the image\n",
        "# to download the image, simply move your cursor to the right side of the image file, click the 3-dot menu, and select \"download\"\n",
        "plt.show()"
      ],
      "metadata": {
        "id": "sFNhBOGTqenb"
      },
      "execution_count": null,
      "outputs": []
    },
    {
      "cell_type": "markdown",
      "source": [
        "If you need to process more than one dataset using this code, simply create a new code cell and reuse the script. To do this, move your cursor to the bottom center of the current cell, where two options will appear: one for adding a text cell and one for adding a code cell. Select the code cell option, then copy the previous code into the new cell and edit it as needed for the new dataset."
      ],
      "metadata": {
        "id": "km0Oc2EwwPUw"
      }
    },
    {
      "cell_type": "markdown",
      "source": [
        "Once a converged ecut value has been determined, use that value to generate the k-point (kp) dataset in QE. As with the previous step, upload the .dat file containing the kp values, then execute the corresponding code cell to process and visualize the results."
      ],
      "metadata": {
        "id": "nJcfb8hQzhkO"
      }
    },
    {
      "cell_type": "code",
      "source": [
        "# Conversion factor from Rydberg to eV\n",
        "RY_TO_EV = 13.605693122994\n",
        "\n",
        "# Load the data and convert energy from Ry to eV\n",
        "kp, ener_ry = np.loadtxt('/content/calc-kp.dat', delimiter=None, unpack=True)\n",
        "ener_ev = ener_ry * RY_TO_EV\n",
        "\n",
        "# Create figure object\n",
        "plt.figure()\n",
        "\n",
        "# Set font style\n",
        "plt.rcParams['font.family'] = 'serif'\n",
        "plt.rcParams['font.serif'] = 'DejaVu Serif'\n",
        "plt.rcParams['font.size'] = 8\n",
        "\n",
        "# Plot the data\n",
        "plt.scatter(kp, ener_ev, s=75, color='y')\n",
        "\n",
        "# Plot a horizontal dashed line at the last energy value\n",
        "plt.axhline(ener_ev[-1], color='gray', linestyle='--')\n",
        "\n",
        "# Axis labels\n",
        "plt.xlabel('Number of $\\mathbf{k}$-points')\n",
        "plt.ylabel('Total energy (eV)')\n",
        "\n",
        "# Automatically set y-limits with padding\n",
        "y_min = np.min(ener_ev)\n",
        "y_max = np.max(ener_ev)\n",
        "y_range = y_max - y_min\n",
        "padding = 0.05 * y_range\n",
        "\n",
        "plt.ylim(y_min - padding, y_max + padding)\n",
        "\n",
        "# Automatically set x-limits with padding (optional)\n",
        "x_min = np.min(kp)\n",
        "x_max = np.max(kp)\n",
        "x_range = x_max - x_min\n",
        "x_padding = 0.05 * x_range\n",
        "plt.xlim(x_min - x_padding, x_max + x_padding)\n",
        "plt.savefig('plot-kpoint.png', dpi=300)\n",
        "plt.show()"
      ],
      "metadata": {
        "id": "VZhiSV-4xG2E"
      },
      "execution_count": null,
      "outputs": []
    },
    {
      "cell_type": "markdown",
      "source": [
        "As before, if you need to process multiple datasets, create a new code cell and reuse the script. After finding a converged kp value, use it together with the converged ecut value to perform structural calculations in Quantum ESPRESSO."
      ],
      "metadata": {
        "id": "-mewUyfJ2J3a"
      }
    },
    {
      "cell_type": "markdown",
      "source": [
        "II. STRUCTURAL PROPERTIES"
      ],
      "metadata": {
        "id": "IyblVHbClUk1"
      }
    },
    {
      "cell_type": "markdown",
      "source": [
        "In all DFT workflows, structural optimization serves as the first and most crucial step. Any errors here will propagate and compromise the reliability of subsequent calculations. Thus, it is vital to ensure that your QE structural optimizations are carried out with confidence, using the previously determined converged parameters."
      ],
      "metadata": {
        "id": "KRLd547Jleak"
      }
    },
    {
      "cell_type": "markdown",
      "source": [
        "Upload the .dat file that lists the lattice constants and total energies from your QE runs, then check that the lattice constant values include their decimal places. If the decimal portion is missing (e.g., 2.43 shows as 2), the issue is not the decimal point itself but how the values were written or parsed by your script. Common causes are integer-formatting, splitting the number on . with tools like cut, or using commands that truncate floats. If decimals are lost, either regenerate the .dat with proper floating-point formatting of your .sh file, or edit the file manually."
      ],
      "metadata": {
        "id": "VDV2JXod-oJ9"
      }
    },
    {
      "cell_type": "markdown",
      "source": [
        "With that completed, run the code in the next cell to process the data."
      ],
      "metadata": {
        "id": "FTXo14pqlJTs"
      }
    },
    {
      "cell_type": "code",
      "source": [
        "# Load lattice constant (Å) and total energy (eV) from file\n",
        "a_lattice, energy = np.loadtxt('/content/calc-alat.dat', delimiter=None, unpack=True)\n",
        "\n",
        "# sort data for smooth curve plotting\n",
        "sorted_indices = np.argsort(a_lattice)\n",
        "a_lattice = a_lattice[sorted_indices]\n",
        "energy = energy[sorted_indices]\n",
        "\n",
        "# find minimum energy and corresponding lattice constant\n",
        "min_index = np.argmin(energy)\n",
        "a_min = a_lattice[min_index]\n",
        "E_min = energy[min_index]\n",
        "\n",
        "# Plot setup\n",
        "plt.rcParams['font.family'] = 'serif'\n",
        "plt.rcParams['font.serif'] = 'DejaVu Serif'\n",
        "plt.rcParams['font.size'] = 8\n",
        "plt.figure(figsize=(8, 6))\n",
        "\n",
        "# plot smooth curve and data points\n",
        "plt.plot(a_lattice, energy, color='y', linewidth=2)\n",
        "plt.scatter(a_lattice, energy, color='black', s=60, zorder=5)\n",
        "\n",
        "# dashed lines for minimum energy and lattice constant\n",
        "plt.axvline(a_min, color='red', linestyle='--', linewidth=1.5)\n",
        "plt.axhline(E_min, color='green', linestyle='--', linewidth=1.2)\n",
        "\n",
        "# labels and title\n",
        "plt.xlabel('Lattice Constant $a$ (Å)')\n",
        "plt.ylabel('Total Energy (eV)')\n",
        "\n",
        "# set axis limits with margin\n",
        "x_margin = 0.1 * (max(a_lattice) - min(a_lattice))\n",
        "y_margin = 0.1 * (max(energy) - min(energy))\n",
        "plt.xlim(min(a_lattice) - x_margin, max(a_lattice) + x_margin)\n",
        "plt.ylim(min(energy) - y_margin, max(energy) + y_margin)\n",
        "\n",
        "# final touches\n",
        "plt.grid(False)\n",
        "plt.tight_layout()\n",
        "plt.savefig('plot-lattice.png', dpi=300)\n",
        "plt.show()"
      ],
      "metadata": {
        "id": "KQ61fnwZ_I-9"
      },
      "execution_count": null,
      "outputs": []
    },
    {
      "cell_type": "markdown",
      "source": [
        "As before, if you need to process multiple datasets, create a new code cell and reuse the script."
      ],
      "metadata": {
        "id": "MXULOI3B_1CT"
      }
    },
    {
      "cell_type": "markdown",
      "source": [
        "At this point, you should have identified a suitable lattice constant for your material within ±0.1. For greater precision, you may fine-tune the value within ±0.01. Once that is done, you can plot the fine-tuned lattice constant dataset by running the code in the next cell."
      ],
      "metadata": {
        "id": "zs8wdNDC__MG"
      }
    },
    {
      "cell_type": "code",
      "source": [
        "a_lattice, energy = np.loadtxt('/content/calc-alat-ft.dat', delimiter=None, unpack=True)\n",
        "\n",
        "sorted_indices = np.argsort(a_lattice)\n",
        "a_lattice = a_lattice[sorted_indices]\n",
        "energy = energy[sorted_indices]\n",
        "\n",
        "min_index = np.argmin(energy)\n",
        "a_min = a_lattice[min_index]\n",
        "E_min = energy[min_index]\n",
        "\n",
        "plt.rcParams['font.family'] = 'serif'\n",
        "plt.rcParams['font.serif'] = 'DejaVu Serif'\n",
        "plt.rcParams['font.size'] = 8\n",
        "plt.figure(figsize=(8, 6))\n",
        "plt.plot(a_lattice, energy, color='y', linewidth=2)\n",
        "plt.scatter(a_lattice, energy, color='black', s=60, zorder=5)\n",
        "plt.axvline(a_min, color='red', linestyle='--', linewidth=1.5)\n",
        "plt.axhline(E_min, color='green', linestyle='--', linewidth=1.2)\n",
        "plt.xlabel('Lattice Constant $a$ (Å)')\n",
        "plt.ylabel('Total Energy (eV)')\n",
        "x_margin = 0.1 * (max(a_lattice) - min(a_lattice))\n",
        "y_margin = 0.1 * (max(energy) - min(energy))\n",
        "plt.xlim(min(a_lattice) - x_margin, max(a_lattice) + x_margin)\n",
        "plt.ylim(min(energy) - y_margin, max(energy) + y_margin)\n",
        "plt.grid(False)\n",
        "plt.tight_layout()\n",
        "plt.savefig('plot-lattice-ft.png', dpi=300)\n",
        "plt.show()"
      ],
      "metadata": {
        "id": "HH4N7bEWAjdQ"
      },
      "execution_count": null,
      "outputs": []
    },
    {
      "cell_type": "markdown",
      "source": [
        "As before, if you need to process multiple datasets, create a new code cell and reuse the script."
      ],
      "metadata": {
        "id": "sD9X295hB2-I"
      }
    },
    {
      "cell_type": "markdown",
      "source": [
        "Alternatively, for purposes such as preparing a manuscript, it is often preferable to present the results in a single combined plot. If you prefer this style, you may use the following code. If not, you can stick with the separate images you have previously generated."
      ],
      "metadata": {
        "id": "chaIrZ-FD7UH"
      }
    },
    {
      "cell_type": "code",
      "source": [
        "# File paths and colors for each material\n",
        "files = [\n",
        "    ('material1', '/content/calc-alat-ft-1.dat', 'red'), # the \"material1\" serves as a placeholder for the name of your material; you can change that to your material name should you prefer to do so\n",
        "    ('material2', '/content/calc-alat-ft-2.dat', 'blue'), # sample name: XAlN₃; copy the subscript to the material name to reflect a subscript in the labeling\n",
        "    ('material3', '/content/calc-alat-ft-3.dat', 'orange') # in this code, only 3 materials are being plotted; if you have more than 3, just copy any of these 3 code lines and paste below; make sure that all of your code lines in this part are within the []\n",
        "]\n",
        "\n",
        "# setup font globally\n",
        "plt.rcParams['font.family'] = 'serif'\n",
        "plt.rcParams['font.serif'] = 'DejaVu Serif'\n",
        "plt.rcParams['font.size'] = 8\n",
        "\n",
        "# create subplots\n",
        "fig, axes = plt.subplots(nrows=3, ncols=1, figsize=(6, 9), sharex=False) # in this code, only 3 materials are being plotted; if you have more than 3, just change the value of nrows to the number of your material\n",
        "\n",
        "for ax, (label, file_path, color) in zip(axes, files):\n",
        "    # load and sort data\n",
        "    a_lattice, energy = np.loadtxt(file_path, unpack=True)\n",
        "    sorted_indices = np.argsort(a_lattice)\n",
        "    a_lattice = a_lattice[sorted_indices]\n",
        "    energy = energy[sorted_indices]\n",
        "\n",
        "    # find minimum energy\n",
        "    min_index = np.argmin(energy)\n",
        "    a_min = a_lattice[min_index]\n",
        "    E_min = energy[min_index]\n",
        "\n",
        "    # plot\n",
        "    ax.plot(a_lattice, energy, color=color, linewidth=2, label=f'{label}')\n",
        "    ax.scatter(a_lattice, energy, color='black', s=40, zorder=5)\n",
        "    ax.axvline(a_min, color='red', linestyle='--', linewidth=1.2)\n",
        "    ax.axhline(E_min, color='green', linestyle='--', linewidth=1)\n",
        "\n",
        "    # axis labeling\n",
        "    ax.set_ylabel('Energy (eV)')\n",
        "    ax.set_title(f'{label}', fontsize=10, pad=8)\n",
        "\n",
        "    # axis limits with margins\n",
        "    x_margin = 0.1 * (max(a_lattice) - min(a_lattice))\n",
        "    y_margin = 0.1 * (max(energy) - min(energy))\n",
        "    ax.set_xlim(min(a_lattice) - x_margin, max(a_lattice) + x_margin)\n",
        "    ax.set_ylim(min(energy) - y_margin, max(energy) + y_margin)\n",
        "\n",
        "    ax.grid(False)\n",
        "\n",
        "# shared x-axis label\n",
        "axes[-1].set_xlabel('Lattice Constant $a$ (Å)')\n",
        "\n",
        "plt.tight_layout(h_pad=1.5)\n",
        "plt.savefig('Lattice-Constants-combined.png', dpi=300)\n",
        "plt.show()"
      ],
      "metadata": {
        "id": "yrPEbfd0EMOr"
      },
      "execution_count": null,
      "outputs": []
    },
    {
      "cell_type": "markdown",
      "source": [
        "In essence, the plotting of lattice constants concludes at this point, and by then you will have determined a suitable value for your material. However, some researchers prefer to further validate their results by comparing the lattice constants against an established model, especially when no prior studies are available for reference. A widely used approach is the semi-empirical third-order Birch–Murnaghan equation of state, which relates the material’s volume (for a cubic unit cell, the cube of the lattice constant) to its total energy. By fitting the calculated lattice constants into this model, the equilibrium lattice constant can be extracted. To perform this validation, run the following code:"
      ],
      "metadata": {
        "id": "Xo7Oq68VB561"
      }
    },
    {
      "cell_type": "code",
      "source": [
        "# Conversion factor: Rydberg to eV\n",
        "RY_TO_EV = 13.605693122994\n",
        "\n",
        "# Birch-Murnaghan EoS\n",
        "def birch_murnaghan(a, E0, a0, B0, B0_prime):\n",
        "    V0 = a0**3\n",
        "    ratio_sq = (a0 / a)**2\n",
        "    delta = ratio_sq - 1\n",
        "    term1 = (9 * V0 * B0 / 16)\n",
        "    return E0 + term1 * (delta**3 * B0_prime + delta**2 * (6 - 4 * ratio_sq))\n",
        "\n",
        "# load data\n",
        "data = np.loadtxt('/content/calc-alat.dat')\n",
        "a_all = data[:, 0]\n",
        "E_all = data[:, 1] * RY_TO_EV  # Convert to eV\n",
        "\n",
        "# select 7 points around the minimum\n",
        "min_idx = np.argmin(E_all)\n",
        "start = max(min_idx - 3, 0)\n",
        "end = min(min_idx + 4, len(E_all))\n",
        "a_data = a_all[start:end]\n",
        "E_data = E_all[start:end]\n",
        "\n",
        "# data fitting\n",
        "initial_guess = [min(E_data), a_data[np.argmin(E_data)], 0.5, 4.0]\n",
        "params, _ = curve_fit(birch_murnaghan, a_data, E_data, p0=initial_guess)\n",
        "E0, a0, B0, B0_prime = params\n",
        "B0_GPa = B0 * 160.21766208\n",
        "\n",
        "# smooth fit curve\n",
        "a_fit = np.linspace(min(a_data), max(a_data), 400)\n",
        "E_fit = birch_murnaghan(a_fit, *params)\n",
        "\n",
        "# plot\n",
        "plt.figure(figsize=(8,6))\n",
        "# plot the DFT line (yellow) and individual points (black)\n",
        "plt.plot(a_data, E_data, '-', color='yellow', label='DFT')  # Line through DFT points\n",
        "plt.plot(a_data, E_data, 'o', color='black')  # Individual points\n",
        "\n",
        "# plot the Birch-Murnaghan fit (gray)\n",
        "plt.plot(a_fit, E_fit, '--', color='gray', label='Birch-Murnaghan Fit')\n",
        "\n",
        "plt.xlabel('Lattice Constant (Å)')\n",
        "plt.ylabel('Total Energy (eV)')\n",
        "plt.legend(frameon=False)\n",
        "plt.tight_layout()\n",
        "plt.savefig(\"BMEoS.png\", dpi=300)\n",
        "plt.show()\n",
        "\n",
        "# Output: This gives you a printed value of the following which you can copy for your manuscript\n",
        "print(f'Equilibrium energy E₀ = {E0:.6f} eV')\n",
        "print(f'Equilibrium lattice constant a₀ = {a0:.6f} Å')\n",
        "print(f'Bulk modulus B₀ = {B0:.6f} eV/Å³ ≈ {B0_GPa:.2f} GPa')\n",
        "print(f'Pressure derivative B₀′ = {B0_prime:.3f}')"
      ],
      "metadata": {
        "id": "iw8DPONPDrFS"
      },
      "execution_count": null,
      "outputs": []
    },
    {
      "cell_type": "markdown",
      "source": [
        "As before, if you need to process multiple datasets, create a new code cell and reuse the script."
      ],
      "metadata": {
        "id": "OCwYqtH9GAL5"
      }
    },
    {
      "cell_type": "markdown",
      "source": [
        "Alternatively, for purposes such as preparing a manuscript, it is often preferable to present the results in a single combined plot. If you prefer this style, you may use the following code. If not, you can stick with the separate images you have previously generated."
      ],
      "metadata": {
        "id": "vtEXYvscGLbE"
      }
    },
    {
      "cell_type": "code",
      "source": [
        "RY_TO_EV = 13.605693122994\n",
        "\n",
        "# Birch-Murnaghan EoS\n",
        "def birch_murnaghan(a, E0, a0, B0, B0_prime):\n",
        "    V0 = a0**3\n",
        "    ratio_sq = (a0 / a)**2\n",
        "    delta = ratio_sq - 1\n",
        "    term1 = (9 * V0 * B0 / 16)\n",
        "    return E0 + term1 * (delta**3 * B0_prime + delta**2 * (6 - 4 * ratio_sq))\n",
        "\n",
        "# compound info: label, file, color\n",
        "compounds = [\n",
        "    (\"material1\", \"/content/calc-alat-1.dat\", \"red\"), # as with earlier, you can change to your material name\n",
        "    (\"material2\", \"/content/calc-alat-2.dat\", \"blue\"),\n",
        "    (\"material3\", \"/content/calc-alat-3.dat\", \"orange\") # as with earlier, you can add more code lines to match the number of your material\n",
        "]\n",
        "\n",
        "# plot setup\n",
        "plt.rcParams['font.family'] = 'serif'\n",
        "plt.rcParams['font.serif'] = 'DejaVu Serif'\n",
        "plt.rcParams['font.size'] = 8\n",
        "\n",
        "fig, axes = plt.subplots(nrows=3, ncols=1, figsize=(6, 9), sharex=False) # as with earlier, you can change nrow to match the number of your material\n",
        "\n",
        "# loop through each compound\n",
        "for ax, (label, file_path, color) in zip(axes, compounds):\n",
        "    data = np.loadtxt(file_path)\n",
        "    a_all = data[:, 0]\n",
        "    E_all = data[:, 1] * RY_TO_EV  # Convert Rydberg to eV\n",
        "\n",
        "    # select 7 points around minimum\n",
        "    min_idx = np.argmin(E_all)\n",
        "    start = max(min_idx - 3, 0)\n",
        "    end = min(min_idx + 4, len(E_all))\n",
        "    a_data = a_all[start:end]\n",
        "    E_data = E_all[start:end]\n",
        "\n",
        "    # fit BM EoS\n",
        "    initial_guess = [min(E_data), a_data[np.argmin(E_data)], 0.5, 4.0]\n",
        "    params, _ = curve_fit(birch_murnaghan, a_data, E_data, p0=initial_guess)\n",
        "    E0, a0, B0, B0_prime = params\n",
        "    B0_GPa = B0 * 160.21766208\n",
        "\n",
        "    # generate smooth fitted curve\n",
        "    a_fit = np.linspace(min(a_data), max(a_data), 400)\n",
        "    E_fit = birch_murnaghan(a_fit, *params)\n",
        "\n",
        "    # plot DFT data and fit\n",
        "    ax.plot(a_data, E_data, '-', color=color, label='DFT')\n",
        "    ax.plot(a_data, E_data, 'o', color='black')\n",
        "    ax.plot(a_fit, E_fit, '--', color='gray', label='BM Fit')\n",
        "\n",
        "    # annotate with compound label and parameters\n",
        "    ax.set_ylabel('Energy (eV)')\n",
        "    ax.set_title(f\"{label}\", fontsize=9)\n",
        "    ax.grid(False)\n",
        "    ax.legend(frameon=False, loc='best')\n",
        "\n",
        "# shared X-axis label\n",
        "axes[-1].set_xlabel('Lattice Constant (Å)')\n",
        "\n",
        "# layout adjustment\n",
        "plt.tight_layout(h_pad=1.5)\n",
        "plt.savefig(\"BMEoS-combined.png\", dpi=300)\n",
        "plt.show()"
      ],
      "metadata": {
        "id": "lJqUU3TnGGVr"
      },
      "execution_count": null,
      "outputs": []
    },
    {
      "cell_type": "markdown",
      "source": [
        "Congratulations! You have successfully completed the plotting of your structural properties data."
      ],
      "metadata": {
        "id": "uJAtyOTiGw5f"
      }
    },
    {
      "cell_type": "markdown",
      "source": [
        "III. ELECTRONIC PROPERTIES"
      ],
      "metadata": {
        "id": "2o0ej7uSG70u"
      }
    },
    {
      "cell_type": "markdown",
      "source": [
        "From your earlier DFT calculations, you have already determined an appropriate lattice constant. Using this value along with your converged ecut and kp, you can now proceed to calculate the electronic properties of your material. While many electronic properties can be explored, this notebook will only focus on plotting the following:\n",
        "*   Band structure (spin-polarized and non–spin-polarized)\n",
        "*   Density of states (DOS) (spin-polarized and non–spin-polarized)\n",
        "*   Partial density of states (PDOS) (both atom-resolved and orbital-resolved)"
      ],
      "metadata": {
        "id": "74z9ArrDHJg0"
      }
    },
    {
      "cell_type": "markdown",
      "source": [
        "III.a. BAND STRUCTURE"
      ],
      "metadata": {
        "id": "aoBDDSU9JnsM"
      }
    },
    {
      "cell_type": "markdown",
      "source": [
        "NON-SPIN-POLARIZED BAND STRUCTURE"
      ],
      "metadata": {
        "id": "wYMAHaRAp0M7"
      }
    },
    {
      "cell_type": "markdown",
      "source": [
        "In QE, the band structure energies are stored in a .gnu file. For this step, locate the corresponding .gnu file from your calculations, upload it into this notebook, and then execute the code in the next cell."
      ],
      "metadata": {
        "id": "uGIVq507paGG"
      }
    },
    {
      "cell_type": "code",
      "source": [
        "efermi = 10.0810 # when you ran your band structure calculations, you typically did a SCF and a NSCF calculations prior to the \"bands\" calculations; from your nscf.out, locate the Fermi energy and paste it here\n",
        "\n",
        "# Load band data\n",
        "data = np.loadtxt('/content/gr.bands.gnu')\n",
        "\n",
        "# Extract k-points and reshape energy values\n",
        "k = np.unique(data[:, 0])\n",
        "bands = np.reshape(data[:, 1], (-1, len(k)))\n",
        "\n",
        "# Define high symmetry points\n",
        "X = k[0]; R1 = k[10]; M = k[40]; gG = k[60]; R2 = k[90] # from your \"bands\" calculations, you specified the k-path; list them here in order, then from their k-point weights, add them up step-by-step as you trace the path, starting from 0\n",
        "# for example, if you have a U-X-R k-path with weights U = 20, X = 10, R = 0, then U = k[0]; X = k[20,]; R = k[30]; the last k-point weight does not matter and is not considered\n",
        "# if two k-points are the same, designate using numbers; e.g., X1, X2, ...\n",
        "\n",
        "# Plot band structure\n",
        "plt.rcParams['font.family'] = 'serif'\n",
        "plt.rcParams['font.serif'] = 'DejaVu Serif'\n",
        "plt.figure ()\n",
        "plt.axhline (0, c='gray', ls=':')\n",
        "plt.axvline(R1, c='gray') # here, we plot axes lines per k-point; considering that the terminal k-points will be plotted in the next code lines (plt.xlim()), you only need to specify here the in-between k-points\n",
        "plt.axvline(M, c='gray') # for example, if you have a U-X-R k-path, only put the X here, such that, plt.axvline(X, c='gray'); delete the other lines or add other lines if necessary\n",
        "plt.axvline(gG, c='gray')\n",
        "\n",
        "for band in range(len(bands)):\n",
        " plt.plot(k, bands[band, :]-efermi , c='b')\n",
        "\n",
        "plt.xlabel('')\n",
        "plt.ylabel('Energy (eV)')\n",
        "plt.xlim(X, R2) # list the terminal k-points in your k-path; for example, if you have a U-X-R k-path, then plt.xlim(U, R)\n",
        "plt.ylim (-10, 10) # list a suitable energy interval for your band structure in such a way that you can fit an appropriate structure in your plot; you can play around the values here\n",
        "plt.yticks(np.arange(-10, 11, 5))  # Set y-ticks every 5 eV\n",
        "plt.xticks ([X, R1, M, gG, R2], ['X', 'R', 'M', '$\\Gamma$', 'R']) # the first interval lists the k-point values for the code, thus, designate again with numbers to distinguish similar k-points; the second interval adds the label, no need to designate numbers and differentiate similar k-points\n",
        "plt.tick_params(axis='x', which='minor', bottom=False, top=False)\n",
        "\n",
        "plt.savefig('nsp-bands.png', dpi=300)\n",
        "plt.show ()"
      ],
      "metadata": {
        "id": "roEwZ-QTqJ9t"
      },
      "execution_count": null,
      "outputs": []
    },
    {
      "cell_type": "markdown",
      "source": [
        "As before, if you need to process multiple datasets, create a new code cell and reuse the script."
      ],
      "metadata": {
        "id": "07vY9SL4wJgL"
      }
    },
    {
      "cell_type": "markdown",
      "source": [
        "SPIN-POLARIZED BAND STRUCTURE"
      ],
      "metadata": {
        "id": "mSp1kxVbwBfj"
      }
    },
    {
      "cell_type": "markdown",
      "source": [
        "For a spin-polarized band structure, you will need two .gnu files: one corresponding to the spin-up state and another for the spin-down state. Upload both files into this notebook. After that, the procedure is the same as for the non–spin-polarized band structure."
      ],
      "metadata": {
        "id": "z-5DZ7QOwP0T"
      }
    },
    {
      "cell_type": "code",
      "source": [
        "efermi = 10.0810\n",
        "\n",
        "# Load spin-polarized band data\n",
        "data_up = np.loadtxt('/content/gr.bands.sp1.gnu')\n",
        "data_down = np.loadtxt('/content/gr.bands.sp2.gnu')\n",
        "\n",
        "# Extract k-points and reshape energy values\n",
        "k = np.unique(data_up[:, 0])\n",
        "bands_up = np.reshape(data_up[:, 1], (-1, len(k)))\n",
        "bands_down = np.reshape(data_down[:, 1], (-1, len(k)))\n",
        "\n",
        "# Define high symmetry points\n",
        "X = k[0]; R1 = k[10]; M = k[40]; gG = k[60]; R2 = k[90]\n",
        "\n",
        "# Plot spin-polarized band structure\n",
        "plt.rcParams['font.family'] = 'serif'\n",
        "plt.rcParams['font.serif'] = 'DejaVu Serif'\n",
        "plt.rcParams['font.size'] = 8\n",
        "plt.figure()\n",
        "plt.axhline(0, c='gray', ls=':')\n",
        "plt.axvline(R1, c='gray')\n",
        "plt.axvline(M, c='gray')\n",
        "plt.axvline(gG, c='gray')\n",
        "\n",
        "# Plot spin-up bands in blue\n",
        "for band in range(len(bands_up)):\n",
        "    plt.plot(k, bands_up[band, :] - efermi, c='b', label='Spin Up' if band == 0 else \"\")\n",
        "\n",
        "# Plot spin-down bands in red\n",
        "for band in range(len(bands_down)):\n",
        "    plt.plot(k, bands_down[band, :] - efermi, c='r', label='Spin Down' if band == 0 else \"\")\n",
        "\n",
        "plt.xlabel('')\n",
        "plt.ylabel('Energy (eV)')\n",
        "plt.xlim(X, R2)\n",
        "plt.ylim(-10, 10)\n",
        "plt.yticks(np.arange(-10, 11, 5))  # Set y-ticks every 5 eV\n",
        "plt.xticks([X, R1, M, gG, R2], ['X', 'R', 'M', '$\\Gamma$', 'R'])\n",
        "plt.tick_params(axis='x', which='minor', bottom=False, top=False)\n",
        "legend = plt.legend(loc='upper right', fontsize=9, frameon=True)\n",
        "legend.get_frame().set_facecolor('white')\n",
        "legend.get_frame().set_alpha(0.9)  # Transparency simulating blur\n",
        "legend.get_frame().set_edgecolor('none')\n",
        "\n",
        "plt.savefig('sp-bands.png', dpi=300)\n",
        "plt.show()"
      ],
      "metadata": {
        "id": "biYiTETRwE3p"
      },
      "execution_count": null,
      "outputs": []
    },
    {
      "cell_type": "markdown",
      "source": [
        "As before, if you need to process multiple datasets, create a new code cell and reuse the script."
      ],
      "metadata": {
        "id": "FO01nJaTyXGM"
      }
    },
    {
      "cell_type": "markdown",
      "source": [
        "III.b. DENSITY OF STATES"
      ],
      "metadata": {
        "id": "0oJrMQJBJyTW"
      }
    },
    {
      "cell_type": "markdown",
      "source": [
        "NON-SPIN POLARIZED DENSITY OF STATES"
      ],
      "metadata": {
        "id": "M7a9Lvb_2t10"
      }
    },
    {
      "cell_type": "markdown",
      "source": [
        "In QE, the DOS energies are stored in a .dat file. For this step, locate the corresponding .dat file from your calculations, upload it into this notebook, and then execute the code in the next cell."
      ],
      "metadata": {
        "id": "KUM-rvVr41FY"
      }
    },
    {
      "cell_type": "code",
      "source": [
        "efermi = 9.3273 # change to your specifics\n",
        "# Load the data\n",
        "ener, dos, idos = np.loadtxt('/content/nsp.dos.dat', unpack=True)\n",
        "\n",
        "# Shift energy so Fermi level is at 0 eV\n",
        "ener_shifted = ener - efermi\n",
        "\n",
        "# Plotting setup\n",
        "plt.rcParams['font.family'] = 'serif'\n",
        "plt.rcParams['font.serif'] = 'DejaVu Serif'\n",
        "plt.figure()\n",
        "\n",
        "# Add a vertical line at the Fermi energy\n",
        "plt.axvline(x=0, color='g', linestyle='--', label='Fermi Energy')\n",
        "\n",
        "# Add labels and title\n",
        "plt.plot(ener-efermi, dos, c='k')\n",
        "plt.xlabel('Energy (eV)')\n",
        "plt.ylabel('DOS (state/eV/unit-cell)')\n",
        "plt.xlim(-10, 10)\n",
        "plt.ylim(0, 10)\n",
        "\n",
        "# Save and show the plot\n",
        "plt.savefig('nsp-DOS.png', dpi=300)\n",
        "plt.show()"
      ],
      "metadata": {
        "id": "WWi2V-t63M-b"
      },
      "execution_count": null,
      "outputs": []
    },
    {
      "cell_type": "markdown",
      "source": [
        "As before, if you need to process multiple datasets, create a new code cell and reuse the script."
      ],
      "metadata": {
        "id": "4rP0XN7t5FS_"
      }
    },
    {
      "cell_type": "markdown",
      "source": [
        "SPIN-POLARIZED DENSITY OF STATES"
      ],
      "metadata": {
        "id": "7C2-8Yhe2xAL"
      }
    },
    {
      "cell_type": "markdown",
      "source": [
        "For a spin-polarized DOS, you will need the .dat file containing the spin-polarized energies. Upload the file into this notebook. After that, the procedure is the same as for the non–spin-polarized DOS."
      ],
      "metadata": {
        "id": "FxQ7d8zX5Kcq"
      }
    },
    {
      "cell_type": "code",
      "source": [
        "# Load the data\n",
        "data = np.loadtxt('/content/sp.dos.dat')\n",
        "ener = data[:, 0]\n",
        "dosup = data[:, 1]\n",
        "dosdw = data[:, 2]\n",
        "dosdw_inverted = -dosdw\n",
        "efermi = 9.3620  # Fermi energy\n",
        "\n",
        "# Shift energy so Fermi level is at 0 eV\n",
        "ener_shifted = ener - efermi\n",
        "\n",
        "# Plotting setup\n",
        "plt.rcParams['font.family'] = 'serif'\n",
        "plt.rcParams['font.serif'] = 'DejaVu Serif'\n",
        "plt.rcParams['font.size'] = 8\n",
        "plt.figure()\n",
        "\n",
        "# Plot the spin-up DOS\n",
        "plt.plot(ener_shifted, dosup, c='r', label='Spin Up')\n",
        "\n",
        "# Plot the spin-down DOS\n",
        "plt.plot(ener_shifted, dosdw_inverted, c='b', label='Spin Down')\n",
        "\n",
        "# Add a vertical line at the Fermi energy (now zero)\n",
        "plt.axvline(x=0, color='g', linestyle='--', label='Fermi Energy')\n",
        "\n",
        "# Add labels and title\n",
        "plt.xlabel('Energy (eV)')\n",
        "plt.ylabel('DOS (state/eV/unit-cell)')\n",
        "plt.xlim(-14, 10.5)  # Adjust x-axis limits accordingly\n",
        "plt.ylim(-5, 7)  # Set y-axis limits based on data\n",
        "plt.legend(frameon=False)  # Add a legend\n",
        "\n",
        "# Save and show the plot\n",
        "plt.savefig('sp-dos.png', dpi=300)\n",
        "plt.show()"
      ],
      "metadata": {
        "id": "WCoVo1ww205B"
      },
      "execution_count": null,
      "outputs": []
    },
    {
      "cell_type": "markdown",
      "source": [
        "As before, if you need to process multiple datasets, create a new code cell and reuse the script."
      ],
      "metadata": {
        "id": "z0qyOF-v5en0"
      }
    },
    {
      "cell_type": "markdown",
      "source": [
        "Alternatively, for purposes such as preparing a manuscript, it is often preferable to present the results in a single combined plot. If you prefer this style, you may use the following code. If not, you can stick with the separate images you have previously generated."
      ],
      "metadata": {
        "id": "LSOglRWY5lxk"
      }
    },
    {
      "cell_type": "code",
      "source": [
        "# File names and Fermi energies\n",
        "files = [\n",
        "    ('/content/material1.dos.dat', 8.3261, 'material1'), # change to appropriate material names and their corresponding Fermi energies\n",
        "    ('/content/material2.dos.dat', 8.7975, 'material2'), # feel free to add or subtract code lines depending on your needs\n",
        "    ('/content/material3.dos.dat', 9.3620, 'material3')\n",
        "]\n",
        "\n",
        "# Plotting setup\n",
        "plt.rcParams['font.family'] = 'serif'\n",
        "plt.rcParams['font.serif'] = 'DejaVu Serif'\n",
        "plt.rcParams['font.size'] = 8\n",
        "\n",
        "fig, axes = plt.subplots(nrows=3, ncols=1, figsize=(6, 7), sharex=True) # feel free to change the value of nrows depending on your needs\n",
        "\n",
        "for i, (ax, (filename, efermi, label)) in enumerate(zip(axes, files)):\n",
        "    data = np.loadtxt(filename)\n",
        "    ener = data[:, 0]\n",
        "    dosup = data[:, 1]\n",
        "    dosdw = data[:, 2]\n",
        "    dosdw_inverted = -dosdw\n",
        "    ener_shifted = ener - efermi\n",
        "\n",
        "    ax.plot(ener_shifted, dosup, c='r', label='Spin Up')\n",
        "    ax.plot(ener_shifted, dosdw_inverted, c='b', label='Spin Down')\n",
        "    ax.axvline(x=0, color='g', linestyle='--')  # Fermi level line without legend entry\n",
        "    ax.set_ylabel('DOS (states/eV)')\n",
        "    ax.set_xlim(-14, 10.5)\n",
        "    ax.set_ylim(-5, 7)\n",
        "    ax.set_title(label)\n",
        "    ax.legend(frameon=False, loc='upper right')\n",
        "\n",
        "    # Add Ef label only in the top subplot\n",
        "    if i == 0:\n",
        "        ax.text(0.2, 6.2, '$E_f$', color='g', fontsize=9)\n",
        "\n",
        "axes[-1].set_xlabel('Energy (eV)')\n",
        "\n",
        "plt.tight_layout()\n",
        "plt.savefig('Stacked-SPDOS.png', dpi=300)\n",
        "plt.show()"
      ],
      "metadata": {
        "id": "M2cbTZAH5mXF"
      },
      "execution_count": null,
      "outputs": []
    },
    {
      "cell_type": "markdown",
      "source": [
        "III.c. PARTIAL/PROJECTED DENSITY OF STATES"
      ],
      "metadata": {
        "id": "ORsjfkcBJ5Tx"
      }
    },
    {
      "cell_type": "markdown",
      "source": [
        "The main distinction between the density of states (DOS) and the partial density of states (PDOS) is that the PDOS deconstructs the total DOS to show the contributions from individual atoms or specific orbitals. While this might seem similar to a spin-polarized DOS—since both are forms of DOS decomposition—they differ in focus: the spin-polarized DOS separates contributions by spin channels (up and down), whereas the PDOS highlights how particular atoms or orbitals contribute to the overall electronic structure."
      ],
      "metadata": {
        "id": "IHPPpFvD71Z4"
      }
    },
    {
      "cell_type": "markdown",
      "source": [
        "ATOM-RESOLVED PDOS"
      ],
      "metadata": {
        "id": "KMPpgfWh9RTJ"
      }
    },
    {
      "cell_type": "markdown",
      "source": [
        "The atom-resolved PDOS illustrates the contribution of each atom within the material to the total DOS. To generate this plot, you will need two types of files: the .dat.pdos_tot file, which contains the total DOS, and the .dat.pdos_atm# files, which contain the PDOS for each individual atom. Once these files are uploaded into the notebook, you can run the code in the next cell to produce the plots."
      ],
      "metadata": {
        "id": "PYXbUnWv7pn1"
      }
    },
    {
      "cell_type": "code",
      "source": [
        "efermi = 9.3620 # change to your specifics\n",
        "\n",
        "# Define the function to read the data file\n",
        "def r_dos(name):\n",
        "    ener, dos = np.loadtxt(name, usecols=(0, 1), unpack=True)\n",
        "    return ener, dos\n",
        "\n",
        "# Read the total PDOS of ABX₃\n",
        "ener, dos = r_dos('/content/ABX3.pdos.dat.pdos_tot') # change to appropriate file name\n",
        "\n",
        "# Read the PDOS of A atom number 1\n",
        "ener1, p1A1s = r_dos('/content/ABX3.pdos.dat.pdos_atm#1(A)_wfc#1(s)') # change to appropriate file name; you can rename the variable \"p1A1s\" to reflect the name of the specific atom\n",
        "_,     p1A2s = r_dos('/content/ABX3.pdos.dat.pdos_atm#1(A)_wfc#3(s)') # for example, you can write \"p1Ba1s\" instead of \"p1A1s\", if your material is BaAlN₃; only change the \"A\" part\n",
        "_,     p1A2p = r_dos('/content/ABX3.pdos.dat.pdos_atm#1(A)_wfc#2(p)')\n",
        "\n",
        "# Read the PDOS of B atom number 2\n",
        "ener2, p2B1s = r_dos('/content/ABX3.pdos.dat.pdos_atm#2(B)_wfc#1(s)') # refer to the instructions above\n",
        "_,     p2B2p = r_dos('/content/ABX3.pdos.dat.pdos_atm#2(B)_wfc#2(p)')\n",
        "\n",
        "# Read the PDOS of X atoms 3, 4, and 5\n",
        "ener3, p3X1s = r_dos('/content/ABX3.pdos.dat.pdos_atm#3(X)_wfc#1(s)')\n",
        "_,     p3X2p = r_dos('/content/ABX3.pdos.dat.pdos_atm#3(X)_wfc#2(p)')\n",
        "\n",
        "ener4, p4X1s = r_dos('/content/ABX3.pdos.dat.pdos_atm#4(X)_wfc#1(s)')\n",
        "_,     p4X2p = r_dos('/content/ABX3.pdos.dat.pdos_atm#4(X)_wfc#2(p)')\n",
        "\n",
        "ener5, p5X1s = r_dos('/content/ABX3.pdos.dat.pdos_atm#5(X)_wfc#1(s)')\n",
        "_,     p5X2p = r_dos('/content/ABX3.pdos.dat.pdos_atm#5(X)_wfc#2(p)')\n",
        "# feel free to add or subtract code lines depending on your needs\n",
        "\n",
        "# Atom-resolved PDOS: sum s + p for each atom\n",
        "pA = p1A1s + p1A2s + p1A2p # e.g. PBa = p1Ba1s + p1Ba2s + p1Ba2p\n",
        "pB = p2B1s + p2B2p\n",
        "pX_total = (p3X1s + p3X2p +\n",
        "            p4X1s + p4X2p +\n",
        "            p5X1s + p5X2p)\n",
        "\n",
        "# Plotting\n",
        "plt.rcParams['font.family'] = 'serif'\n",
        "plt.rcParams['font.serif'] = 'DejaVu Serif'\n",
        "plt.rcParams['font.size'] = 8\n",
        "\n",
        "plt.figure()\n",
        "\n",
        "# Total DOS\n",
        "plt.plot(ener - efermi, dos, c='k', label='Total DOS')\n",
        "\n",
        "# Atom-resolved PDOS\n",
        "plt.plot(ener1 - efermi, pBa, label='Ba')\n",
        "plt.plot(ener2 - efermi, pAl, label='Al')\n",
        "plt.plot(ener3 - efermi, pN_total, label='N')\n",
        "\n",
        "# Labels and axis settings\n",
        "plt.xlabel('Energy (eV)')\n",
        "plt.ylabel('PDOS (state/eV/unit-cell)')\n",
        "plt.axvline(x=0, color='g', linestyle='--', linewidth=1, label='Fermi Energy')\n",
        "plt.xlim(-14, 10.5)\n",
        "plt.ylim(0, 6)\n",
        "\n",
        "# Add a legend\n",
        "plt.legend(frameon=False)\n",
        "\n",
        "# Show the figure\n",
        "plt.savefig('ar-pdos.png', dpi=300)\n",
        "plt.show()"
      ],
      "metadata": {
        "id": "oWf_iX3k9ILq"
      },
      "execution_count": null,
      "outputs": []
    },
    {
      "cell_type": "markdown",
      "source": [
        "As before, if you need to process multiple datasets, create a new code cell and reuse the script."
      ],
      "metadata": {
        "id": "OalxK-rFAlIq"
      }
    },
    {
      "cell_type": "markdown",
      "source": [
        "Alternatively, for purposes such as preparing a manuscript, it is often preferable to present the results in a single combined plot. If you prefer this style, you may use the following code. If not, you can stick with the separate images you have previously generated. Rename the material names, file paths, and variable labels to match the convention we used earlier. You may also add or remove code lines depending on the number of atoms or orbitals in your system."
      ],
      "metadata": {
        "id": "6W8JyL9vEdsC"
      }
    },
    {
      "cell_type": "code",
      "source": [
        "plt.rcParams['font.family'] = 'serif'\n",
        "plt.rcParams['font.serif'] = 'DejaVu Serif'\n",
        "plt.rcParams['font.size'] = 8\n",
        "\n",
        "def r_dos(name):\n",
        "    ener, dos = np.loadtxt(name, usecols=(0, 1), unpack=True)\n",
        "    return ener, dos\n",
        "\n",
        "fig, axs = plt.subplots(nrows=3, ncols=1, figsize=(6, 7), sharex=True)\n",
        "\n",
        "# === CaAlN3 ===\n",
        "efermi = 8.3261\n",
        "\n",
        "ener, dos = r_dos('/content/CaAlN3.pdos.dat.pdos_tot')\n",
        "ener1, p1Ca1s = r_dos('/content/CaAlN3.pdos.dat.pdos_atm#1(Ca)_wfc#1(s)')\n",
        "_,     p1Ca2s = r_dos('/content/CaAlN3.pdos.dat.pdos_atm#1(Ca)_wfc#3(s)')\n",
        "_,     p1Ca2p = r_dos('/content/CaAlN3.pdos.dat.pdos_atm#1(Ca)_wfc#2(p)')\n",
        "_,     p2Al1s = r_dos('/content/CaAlN3.pdos.dat.pdos_atm#2(Al)_wfc#1(s)')\n",
        "_,     p2Al2p = r_dos('/content/CaAlN3.pdos.dat.pdos_atm#2(Al)_wfc#2(p)')\n",
        "_,     p3N1s = r_dos('/content/CaAlN3.pdos.dat.pdos_atm#3(N)_wfc#1(s)')\n",
        "_,     p3N2p = r_dos('/content/CaAlN3.pdos.dat.pdos_atm#3(N)_wfc#2(p)')\n",
        "_,     p4N1s = r_dos('/content/CaAlN3.pdos.dat.pdos_atm#4(N)_wfc#1(s)')\n",
        "_,     p4N2p = r_dos('/content/CaAlN3.pdos.dat.pdos_atm#4(N)_wfc#2(p)')\n",
        "_,     p5N1s = r_dos('/content/CaAlN3.pdos.dat.pdos_atm#5(N)_wfc#1(s)')\n",
        "_,     p5N2p = r_dos('/content/CaAlN3.pdos.dat.pdos_atm#5(N)_wfc#2(p)')\n",
        "\n",
        "pCa = p1Ca1s + p1Ca2s + p1Ca2p\n",
        "pAl = p2Al1s + p2Al2p\n",
        "pN = p3N1s + p3N2p + p4N1s + p4N2p + p5N1s + p5N2p\n",
        "\n",
        "axs[0].plot(ener - efermi, dos, 'k', label='Total DOS')\n",
        "axs[0].plot(ener1 - efermi, pCa, label='Ca')\n",
        "axs[0].plot(ener1 - efermi, pAl, label='Al')\n",
        "axs[0].plot(ener1 - efermi, pN, color = \"red\", label='N')\n",
        "axs[0].axvline(0, color='g', linestyle='--', linewidth=1)\n",
        "axs[0].text(0.2, 5.5, 'E$_f$', color='g', fontsize=8)\n",
        "axs[0].set_ylabel('PDOS')\n",
        "axs[0].set_ylim(0, 6)\n",
        "axs[0].set_xlim(-14, 10.5)\n",
        "axs[0].legend(frameon=False, loc='upper right')\n",
        "axs[0].set_title('CaAlN₃')\n",
        "\n",
        "# === SrAlN3 ===\n",
        "efermi = 8.7975\n",
        "\n",
        "ener, dos = r_dos('/content/SrAlN3.pdos.dat.pdos_tot')\n",
        "ener1, p1Sr1s = r_dos('/content/SrAlN3.pdos.dat.pdos_atm#1(Sr)_wfc#1(s)')\n",
        "_,     p1Sr2s = r_dos('/content/SrAlN3.pdos.dat.pdos_atm#1(Sr)_wfc#3(s)')\n",
        "_,     p1Sr2p = r_dos('/content/SrAlN3.pdos.dat.pdos_atm#1(Sr)_wfc#2(p)')\n",
        "_,     p2Al1s = r_dos('/content/SrAlN3.pdos.dat.pdos_atm#2(Al)_wfc#1(s)')\n",
        "_,     p2Al2p = r_dos('/content/SrAlN3.pdos.dat.pdos_atm#2(Al)_wfc#2(p)')\n",
        "_,     p3N1s = r_dos('/content/SrAlN3.pdos.dat.pdos_atm#3(N)_wfc#1(s)')\n",
        "_,     p3N2p = r_dos('/content/SrAlN3.pdos.dat.pdos_atm#3(N)_wfc#2(p)')\n",
        "_,     p4N1s = r_dos('/content/SrAlN3.pdos.dat.pdos_atm#4(N)_wfc#1(s)')\n",
        "_,     p4N2p = r_dos('/content/SrAlN3.pdos.dat.pdos_atm#4(N)_wfc#2(p)')\n",
        "_,     p5N1s = r_dos('/content/SrAlN3.pdos.dat.pdos_atm#5(N)_wfc#1(s)')\n",
        "_,     p5N2p = r_dos('/content/SrAlN3.pdos.dat.pdos_atm#5(N)_wfc#2(p)')\n",
        "\n",
        "pSr = p1Sr1s + p1Sr2s + p1Sr2p\n",
        "pAl = p2Al1s + p2Al2p\n",
        "pN = p3N1s + p3N2p + p4N1s + p4N2p + p5N1s + p5N2p\n",
        "\n",
        "axs[1].plot(ener - efermi, dos, 'k', label='Total DOS')\n",
        "axs[1].plot(ener1 - efermi, pSr, label='Sr')\n",
        "axs[1].plot(ener1 - efermi, pAl, label='Al')\n",
        "axs[1].plot(ener1 - efermi, pN, color = \"red\", label='N')\n",
        "axs[1].axvline(0, color='g', linestyle='--', linewidth=1)\n",
        "axs[1].set_ylabel('PDOS')\n",
        "axs[1].set_ylim(0, 6)\n",
        "axs[1].legend(frameon=False, loc='upper right')\n",
        "axs[1].set_title('SrAlN₃')\n",
        "\n",
        "# === BaAlN3 ===\n",
        "efermi = 9.3620\n",
        "\n",
        "ener, dos = r_dos('/content/BaAlN3.pdos.dat.pdos_tot')\n",
        "ener1, p1Ba1s = r_dos('/content/BaAlN3.pdos.dat.pdos_atm#1(Ba)_wfc#1(s)')\n",
        "_,     p1Ba2s = r_dos('/content/BaAlN3.pdos.dat.pdos_atm#1(Ba)_wfc#3(s)')\n",
        "_,     p1Ba2p = r_dos('/content/BaAlN3.pdos.dat.pdos_atm#1(Ba)_wfc#2(p)')\n",
        "_,     p2Al1s = r_dos('/content/BaAlN3.pdos.dat.pdos_atm#2(Al)_wfc#1(s)')\n",
        "_,     p2Al2p = r_dos('/content/BaAlN3.pdos.dat.pdos_atm#2(Al)_wfc#2(p)')\n",
        "_,     p3N1s = r_dos('/content/BaAlN3.pdos.dat.pdos_atm#3(N)_wfc#1(s)')\n",
        "_,     p3N2p = r_dos('/content/BaAlN3.pdos.dat.pdos_atm#3(N)_wfc#2(p)')\n",
        "_,     p4N1s = r_dos('/content/BaAlN3.pdos.dat.pdos_atm#4(N)_wfc#1(s)')\n",
        "_,     p4N2p = r_dos('/content/BaAlN3.pdos.dat.pdos_atm#4(N)_wfc#2(p)')\n",
        "_,     p5N1s = r_dos('/content/BaAlN3.pdos.dat.pdos_atm#5(N)_wfc#1(s)')\n",
        "_,     p5N2p = r_dos('/content/BaAlN3.pdos.dat.pdos_atm#5(N)_wfc#2(p)')\n",
        "\n",
        "pBa = p1Ba1s + p1Ba2s + p1Ba2p\n",
        "pAl = p2Al1s + p2Al2p\n",
        "pN = p3N1s + p3N2p + p4N1s + p4N2p + p5N1s + p5N2p\n",
        "\n",
        "axs[2].plot(ener - efermi, dos, 'k', label='Total DOS')\n",
        "axs[2].plot(ener1 - efermi, pBa, label='Ba')\n",
        "axs[2].plot(ener1 - efermi, pAl, label='Al')\n",
        "axs[2].plot(ener1 - efermi, pN, color = \"red\", label='N')\n",
        "axs[2].axvline(0, color='g', linestyle='--', linewidth=1)\n",
        "axs[2].set_ylabel('PDOS')\n",
        "axs[2].set_xlabel('Energy (eV)')\n",
        "axs[2].set_ylim(0, 6)\n",
        "axs[2].legend(frameon=False, loc='upper right')\n",
        "axs[2].set_title('BaAlN₃')\n",
        "\n",
        "plt.tight_layout()\n",
        "plt.savefig('Stacked-ar-PDOS.png', dpi=300)\n",
        "plt.show()"
      ],
      "metadata": {
        "id": "AWyxN9PeEipT"
      },
      "execution_count": null,
      "outputs": []
    },
    {
      "cell_type": "markdown",
      "source": [
        "ORBITAL-RESOLVED PDOS"
      ],
      "metadata": {
        "id": "1yPpNCIx7m_h"
      }
    },
    {
      "cell_type": "markdown",
      "source": [
        "The orbital-resolved PDOS shows how different orbitals within the material contribute to the total DOS. The files needed here are the same ones you used for plotting the atom-resolved PDOS. The only difference between the two is how the code processes the data in the same files. You can run the code in the next cell to create the orbital-resolved PDOS plots."
      ],
      "metadata": {
        "id": "YsiXPGBjAw2A"
      }
    },
    {
      "cell_type": "code",
      "source": [
        "efermi = 9.3620\n",
        "# Define the function to read the data file\n",
        "def r_dos(name):\n",
        "  ener, dos = np.loadtxt(name, usecols =(0,1),unpack=True)\n",
        "  return ener, dos\n",
        "\n",
        "# Read the total PDOS of ABX₃\n",
        "ener, dos = r_dos('/content/ABX3.pdos.dat.pdos_tot')\n",
        "# Read the PDOS of A atom number 1\n",
        "ener1, p1A1s = r_dos('/content/ABX3.pdos.dat.pdos_atm#1(A)_wfc#1(s)')\n",
        "ener1, p1A2s = r_dos('/content/ABX3.pdos.dat.pdos_atm#1(A)_wfc#3(s)')\n",
        "ener1, p1A2p = r_dos('/content/ABX3.pdos.dat.pdos_atm#1(A)_wfc#2(p)')\n",
        "# Read the PDOS of B atom number 2\n",
        "ener2, p2B1s = r_dos('/content/ABX3.pdos.dat.pdos_atm#2(B)_wfc#1(s)')\n",
        "ener2, p2B2p = r_dos('/content/ABX3.pdos.dat.pdos_atm#2(B)_wfc#2(p)')\n",
        "# Read the PDOS of X atom number 3\n",
        "ener3, p3X1s = r_dos('/content/ABX3.pdos.dat.pdos_atm#3(X)_wfc#1(s)')\n",
        "ener3, p3X2p = r_dos('/content/ABX3.pdos.dat.pdos_atm#3(X)_wfc#2(p)')\n",
        "# Read the PDOS of X atom number 4\n",
        "ener4, p4X1s = r_dos('/content/ABX3.pdos.dat.pdos_atm#4(X)_wfc#1(s)')\n",
        "ener4, p4X2p = r_dos('/content/ABX3.pdos.dat.pdos_atm#4(X)_wfc#2(p)')\n",
        "# Read the PDOS of X atom number 5\n",
        "ener4, p4X1s = r_dos('/content/ABX3.pdos.dat.pdos_atm#5(X)_wfc#1(s)')\n",
        "ener4, p4X2p = r_dos('/content/ABX3.pdos.dat.pdos_atm#5(X)_wfc#2(p)')\n",
        "# feel free to add or subtract code lines depending on your needs\n",
        "\n",
        "plt.rcParams['font.family'] = 'serif'\n",
        "plt.rcParams['font.serif'] = 'DejaVu Serif'\n",
        "plt.rcParams['font.size'] = 8\n",
        "# Create figure object\n",
        "plt.figure ()\n",
        "# Plot the DOS\n",
        "plt.plot(ener-efermi, dos, c='k', label='Total DOS')\n",
        "# Plot the PDOS of s-orbital\n",
        "plt.plot(ener1-efermi, p1A1s+p1A2s+p2B1s+p3X1s+p4X1s+p4X1s, c='b', label='s-PDOS')\n",
        "# Plot the PDOS of p-orbital\n",
        "plt.plot(ener2-efermi, p1A2p+p2B2p+p3X2p+p4X2p+p4X2p, c='r', label='p-PDOS')\n",
        "# Add the x and y-axis labels\n",
        "plt.xlabel('Energy (eV)')\n",
        "plt.ylabel('PDOS (state/eV/unit-cell)')\n",
        "# Set the axis limits\n",
        "plt.axvline(x=0, color='g', linestyle='--', linewidth=1, label='Fermi Energy')\n",
        "plt.xlim(-14, 10.5)\n",
        "plt.ylim(0, 6)\n",
        "# Add a legend\n",
        "plt.legend(frameon=False)\n",
        "# Save the figure\n",
        "plt.savefig('or-pdos.png', dpi=300)\n",
        "# Show the figure\n",
        "plt.show ()"
      ],
      "metadata": {
        "id": "wq463d1bAxXU"
      },
      "execution_count": null,
      "outputs": []
    },
    {
      "cell_type": "markdown",
      "source": [
        "As before, if you need to process multiple datasets, create a new code cell and reuse the script."
      ],
      "metadata": {
        "id": "Kn-mfe9ZC0fD"
      }
    },
    {
      "cell_type": "markdown",
      "source": [
        "Alternatively, for purposes such as preparing a manuscript, it is often preferable to present the results in a single combined plot. If you prefer this style, you may use the following code. If not, you can stick with the separate images you have previously generated. Rename the material names, file paths, and variable labels to match the convention we used earlier. You may also add or remove code lines depending on the number of atoms or orbitals in your system."
      ],
      "metadata": {
        "id": "5--FjIuiDLiN"
      }
    },
    {
      "cell_type": "code",
      "source": [
        "plt.rcParams['font.family'] = 'serif'\n",
        "plt.rcParams['font.serif'] = 'DejaVu Serif'\n",
        "plt.rcParams['font.size'] = 8\n",
        "\n",
        "# Function to read data\n",
        "def r_dos(name):\n",
        "    ener, dos = np.loadtxt(name, usecols=(0, 1), unpack=True)\n",
        "    return ener, dos\n",
        "\n",
        "# Create a figure with 3 vertical subplots\n",
        "fig, axs = plt.subplots(3, 1, figsize=(6, 7), sharex=True)\n",
        "\n",
        "# ================== CaAlN3 ==================\n",
        "efermi = 8.3261\n",
        "ener, dos = r_dos('/content/CaAlN3.pdos.dat.pdos_tot')\n",
        "ener1, p1Ba1s = r_dos('/content/CaAlN3.pdos.dat.pdos_atm#1(Ca)_wfc#1(s)')\n",
        "ener1, p1Ba2s = r_dos('/content/CaAlN3.pdos.dat.pdos_atm#1(Ca)_wfc#3(s)')\n",
        "ener1, p1Ba2p = r_dos('/content/CaAlN3.pdos.dat.pdos_atm#1(Ca)_wfc#2(p)')\n",
        "ener2, p2Al1s = r_dos('/content/CaAlN3.pdos.dat.pdos_atm#2(Al)_wfc#1(s)')\n",
        "ener2, p2Al2p = r_dos('/content/CaAlN3.pdos.dat.pdos_atm#2(Al)_wfc#2(p)')\n",
        "ener3, p3N1s = r_dos('/content/CaAlN3.pdos.dat.pdos_atm#3(N)_wfc#1(s)')\n",
        "ener3, p3N2p = r_dos('/content/CaAlN3.pdos.dat.pdos_atm#3(N)_wfc#2(p)')\n",
        "ener4, p4N1s = r_dos('/content/CaAlN3.pdos.dat.pdos_atm#4(N)_wfc#1(s)')\n",
        "ener4, p4N2p = r_dos('/content/CaAlN3.pdos.dat.pdos_atm#4(N)_wfc#2(p)')\n",
        "ener4, p5N1s = r_dos('/content/CaAlN3.pdos.dat.pdos_atm#5(N)_wfc#1(s)')\n",
        "ener4, p5N2p = r_dos('/content/CaAlN3.pdos.dat.pdos_atm#5(N)_wfc#2(p)')\n",
        "\n",
        "axs[0].plot(ener - efermi, dos, 'k', label='Total DOS')\n",
        "axs[0].plot(ener1 - efermi, p1Ba1s + p1Ba2s + p2Al1s + p3N1s + p4N1s + p5N1s, 'b', label='s-PDOS')\n",
        "axs[0].plot(ener2 - efermi, p1Ba2p + p2Al2p + p3N2p + p4N2p + p5N2p, 'r', label='p-PDOS')\n",
        "axs[0].axvline(0, color='g', linestyle='--', linewidth=1)\n",
        "axs[0].text(0.2, 5.5, 'E$_f$', color='g', fontsize=8)\n",
        "axs[0].set_ylabel('PDOS')\n",
        "axs[0].set_ylim(0, 6)\n",
        "axs[0].set_xlim(-14, 10.5)\n",
        "axs[0].set_title('CaAlN₃')\n",
        "axs[0].legend(frameon=False)\n",
        "\n",
        "# ================== SrAlN3 ==================\n",
        "efermi = 8.7975\n",
        "ener, dos = r_dos('/content/SrAlN3.pdos.dat.pdos_tot')\n",
        "ener1, p1Ba1s = r_dos('/content/SrAlN3.pdos.dat.pdos_atm#1(Sr)_wfc#1(s)')\n",
        "ener1, p1Ba2s = r_dos('/content/SrAlN3.pdos.dat.pdos_atm#1(Sr)_wfc#3(s)')\n",
        "ener1, p1Ba2p = r_dos('/content/SrAlN3.pdos.dat.pdos_atm#1(Sr)_wfc#2(p)')\n",
        "ener2, p2Al1s = r_dos('/content/SrAlN3.pdos.dat.pdos_atm#2(Al)_wfc#1(s)')\n",
        "ener2, p2Al2p = r_dos('/content/SrAlN3.pdos.dat.pdos_atm#2(Al)_wfc#2(p)')\n",
        "ener3, p3N1s = r_dos('/content/SrAlN3.pdos.dat.pdos_atm#3(N)_wfc#1(s)')\n",
        "ener3, p3N2p = r_dos('/content/SrAlN3.pdos.dat.pdos_atm#3(N)_wfc#2(p)')\n",
        "ener4, p4N1s = r_dos('/content/SrAlN3.pdos.dat.pdos_atm#4(N)_wfc#1(s)')\n",
        "ener4, p4N2p = r_dos('/content/SrAlN3.pdos.dat.pdos_atm#4(N)_wfc#2(p)')\n",
        "ener4, p5N1s = r_dos('/content/SrAlN3.pdos.dat.pdos_atm#5(N)_wfc#1(s)')\n",
        "ener4, p5N2p = r_dos('/content/SrAlN3.pdos.dat.pdos_atm#5(N)_wfc#2(p)')\n",
        "\n",
        "axs[1].plot(ener - efermi, dos, 'k')\n",
        "axs[1].plot(ener1 - efermi, p1Ba1s + p1Ba2s + p2Al1s + p3N1s + p4N1s + p5N1s, 'b')\n",
        "axs[1].plot(ener2 - efermi, p1Ba2p + p2Al2p + p3N2p + p4N2p + p5N2p, 'r')\n",
        "axs[1].axvline(0, color='g', linestyle='--', linewidth=1)\n",
        "axs[1].set_ylabel('PDOS')\n",
        "axs[1].set_ylim(0, 6)\n",
        "axs[1].set_title('SrAlN₃')\n",
        "\n",
        "# ================== BaAlN3 ==================\n",
        "efermi = 9.3620\n",
        "ener, dos = r_dos('/content/BaAlN3.pdos.dat.pdos_tot')\n",
        "ener1, p1Ba1s = r_dos('/content/BaAlN3.pdos.dat.pdos_atm#1(Ba)_wfc#1(s)')\n",
        "ener1, p1Ba2s = r_dos('/content/BaAlN3.pdos.dat.pdos_atm#1(Ba)_wfc#3(s)')\n",
        "ener1, p1Ba2p = r_dos('/content/BaAlN3.pdos.dat.pdos_atm#1(Ba)_wfc#2(p)')\n",
        "ener2, p2Al1s = r_dos('/content/BaAlN3.pdos.dat.pdos_atm#2(Al)_wfc#1(s)')\n",
        "ener2, p2Al2p = r_dos('/content/BaAlN3.pdos.dat.pdos_atm#2(Al)_wfc#2(p)')\n",
        "ener3, p3N1s = r_dos('/content/BaAlN3.pdos.dat.pdos_atm#3(N)_wfc#1(s)')\n",
        "ener3, p3N2p = r_dos('/content/BaAlN3.pdos.dat.pdos_atm#3(N)_wfc#2(p)')\n",
        "ener4, p4N1s = r_dos('/content/BaAlN3.pdos.dat.pdos_atm#4(N)_wfc#1(s)')\n",
        "ener4, p4N2p = r_dos('/content/BaAlN3.pdos.dat.pdos_atm#4(N)_wfc#2(p)')\n",
        "ener4, p5N1s = r_dos('/content/BaAlN3.pdos.dat.pdos_atm#5(N)_wfc#1(s)')\n",
        "ener4, p5N2p = r_dos('/content/BaAlN3.pdos.dat.pdos_atm#5(N)_wfc#2(p)')\n",
        "\n",
        "axs[2].plot(ener - efermi, dos, 'k')\n",
        "axs[2].plot(ener1 - efermi, p1Ba1s + p1Ba2s + p2Al1s + p3N1s + p4N1s + p5N1s, 'b')\n",
        "axs[2].plot(ener2 - efermi, p1Ba2p + p2Al2p + p3N2p + p4N2p + p5N2p, 'r')\n",
        "axs[2].axvline(0, color='g', linestyle='--', linewidth=1)\n",
        "axs[2].set_ylabel('PDOS')\n",
        "axs[2].set_ylim(0, 6)\n",
        "axs[2].set_title('BaAlN₃')\n",
        "axs[2].set_xlabel('Energy (eV)')\n",
        "\n",
        "# Final layout\n",
        "plt.tight_layout()\n",
        "plt.savefig('stacked-or-PDOS.png', dpi=300)\n",
        "plt.show()"
      ],
      "metadata": {
        "id": "w9j-sbPPDL93"
      },
      "execution_count": null,
      "outputs": []
    },
    {
      "cell_type": "markdown",
      "source": [
        "III.d. COMBINED BAND STRUCTURE AND DENSITY OF STATES"
      ],
      "metadata": {
        "id": "5_gEaSubzccg"
      }
    },
    {
      "cell_type": "markdown",
      "source": [
        "If you would like to plot the band structure and density of states side by side, you can certainly do so. This layout is often preferred, as it allows for a direct comparison between the DOS and the corresponding band structure. For this purpose, use the .gnu file containing the non–spin-polarized band structure together with the .dat file containing the DOS data."
      ],
      "metadata": {
        "id": "o_HJAMH2zi1g"
      }
    },
    {
      "cell_type": "code",
      "source": [
        "# Band Structure Data\n",
        "efermi_band = 10.0705\n",
        "band_data = np.loadtxt('/content/gr.bands.gnu')\n",
        "k = np.unique(band_data[:, 0])\n",
        "bands = np.reshape(band_data[:, 1], (-1, len(k)))\n",
        "\n",
        "X = k[0]; R1 = k[10]; M = k[40]; gG = k[60]; R2 = k[90]\n",
        "\n",
        "# DOS Data\n",
        "efermi_dos = 10.0705\n",
        "ener, dos, idos = np.loadtxt('/content/dos.dat', unpack=True)\n",
        "ener_shifted = ener - efermi_dos  # Align to same Fermi level as band plot\n",
        "\n",
        "# Plot Setup\n",
        "plt.rcParams['font.family'] = 'serif'\n",
        "plt.rcParams['font.serif'] = 'DejaVu Serif'\n",
        "plt.rcParams['font.size'] = 8\n",
        "\n",
        "fig = plt.figure(figsize=(9, 6))\n",
        "gs = GridSpec(1, 2, width_ratios=[3, 1], wspace=0.05)\n",
        "\n",
        "# Band Structure Plot\n",
        "ax_band = fig.add_subplot(gs[0])\n",
        "ax_band.axhline(0, c='gray', ls=':')\n",
        "ax_band.axvline(R1, c='gray')\n",
        "ax_band.axvline(M, c='gray')\n",
        "ax_band.axvline(gG, c='gray')\n",
        "\n",
        "for band in range(len(bands)):\n",
        "    ax_band.plot(k, bands[band, :] - efermi_band, c='b', lw=0.7)\n",
        "\n",
        "ax_band.set_ylabel('$E_tot$ - $E_F$ (eV)')\n",
        "ax_band.set_xlim(X, R2)\n",
        "ax_band.set_ylim(-10, 10)\n",
        "ax_band.set_yticks(np.arange(-10, 11, 5))\n",
        "ax_band.set_xticks([X, R1, M, gG, R2])\n",
        "ax_band.set_xticklabels(['X', 'R', 'M', '$\\Gamma$', 'R'])\n",
        "\n",
        "# DOS Plot (sideways)\n",
        "ax_dos = fig.add_subplot(gs[1], sharey=ax_band)\n",
        "ax_dos.plot(dos, ener_shifted, c='k')\n",
        "ax_dos.axhline(0, color='g', linestyle='--', label='Fermi Energy')\n",
        "\n",
        "ax_dos.set_xlim(0, max(dos) * 1.1)\n",
        "ax_dos.set_ylim(-10, 10)\n",
        "ax_dos.set_xticks([0, 5, 10])\n",
        "ax_dos.set_yticks([])  # <-- This line removes the right-side ticks\n",
        "ax_dos.set_yticklabels([])\n",
        "ax_dos.tick_params(axis='y', which='both', left=False, right=False)\n",
        "\n",
        "# Final Layout\n",
        "plt.tight_layout()\n",
        "plt.savefig('band-dos-combined.png', dpi=300)\n",
        "plt.show()"
      ],
      "metadata": {
        "id": "8g79TlDGzoes"
      },
      "execution_count": null,
      "outputs": []
    },
    {
      "cell_type": "markdown",
      "source": [
        "As before, if you need to process multiple datasets, create a new code cell and reuse the script."
      ],
      "metadata": {
        "id": "KkrGevoW0Ssi"
      }
    },
    {
      "cell_type": "markdown",
      "source": [
        "Alternatively, for purposes such as preparing a manuscript, it is often preferable to present the results in a single combined plot. If you prefer this style, you may use the following code. If not, you can stick with the separate images you have previously generated."
      ],
      "metadata": {
        "id": "H2iB18Zt0TY8"
      }
    },
    {
      "cell_type": "code",
      "source": [
        "# Compounds in desired order\n",
        "compounds = [\n",
        "    {'name': 'material1', 'band_file': '/content/gr.bands.material1.gnu', 'dos_file': '/content/material1.dos.dat', 'efermi': 9.2385}, # write their appropriate Fermi energies\n",
        "    {'name': 'material2', 'band_file': '/content/gr.bands.material2.gnu', 'dos_file': '/content/material2.dos.dat', 'efermi': 9.5632}, # feel free to add or subtract code lines for any number of your material\n",
        "    {'name': 'material3', 'band_file': '/content/gr.bands.material3.gnu', 'dos_file': '/content/material3.dos.dat', 'efermi': 10.0705},\n",
        "]\n",
        "\n",
        "# Plot style\n",
        "plt.rcParams['font.family'] = 'serif'\n",
        "plt.rcParams['font.serif'] = 'DejaVu Serif'\n",
        "plt.rcParams['font.size'] = 8\n",
        "\n",
        "# Create figure and gridspec\n",
        "fig = plt.figure(figsize=(7.5, 9))\n",
        "gs = GridSpec(len(compounds), 2, width_ratios=[2.2, 1], hspace=0.25, wspace=0.1)\n",
        "\n",
        "for i, comp in enumerate(compounds):\n",
        "    # Load band data\n",
        "    band_data = np.loadtxt(comp['band_file'])\n",
        "    k = np.unique(band_data[:, 0])\n",
        "    bands = np.reshape(band_data[:, 1], (-1, len(k)))\n",
        "\n",
        "    # High symmetry points\n",
        "    X = k[0]\n",
        "    R1 = k[min(10, len(k)-1)]\n",
        "    M = k[min(40, len(k)-1)]\n",
        "    gG = k[min(60, len(k)-1)]\n",
        "    R2 = k[min(90, len(k)-1)]\n",
        "\n",
        "    # Load DOS\n",
        "    ener, dos, _ = np.loadtxt(comp['dos_file'], unpack=True)\n",
        "    ener_shifted = ener - comp['efermi']\n",
        "\n",
        "    # Band structure plot\n",
        "    ax_band = fig.add_subplot(gs[i, 0])\n",
        "    ax_band.axhline(0, color='gray', linestyle=':')\n",
        "    for x in [R1, M, gG]:\n",
        "        ax_band.axvline(x, color='gray', linewidth=0.5)\n",
        "\n",
        "    for band in bands:\n",
        "        ax_band.plot(k, band - comp['efermi'], color='blue', linewidth=0.7)\n",
        "\n",
        "    ax_band.set_yticks(np.arange(-10, 11, 5))\n",
        "    ax_band.set_xlim(X, R2)\n",
        "    ax_band.set_ylim(-10, 10)\n",
        "    ax_band.set_ylabel(\"Energy (eV)\")\n",
        "    ax_band.set_xticks([X, R1, M, gG, R2])\n",
        "    ax_band.set_xticklabels(['X', 'R', 'M', r'$\\Gamma$', 'R'])\n",
        "\n",
        "    if i != len(compounds) - 1:\n",
        "        ax_band.set_xticklabels([])\n",
        "        ax_band.tick_params(axis='x', bottom=False)\n",
        "\n",
        "    ax_band.set_title(comp['name'], fontsize=9)\n",
        "\n",
        "    # DOS plot\n",
        "    ax_dos = fig.add_subplot(gs[i, 1], sharey=ax_band)\n",
        "    ax_dos.plot(dos, ener_shifted, color='black', linewidth=0.8)\n",
        "    ax_dos.axhline(0, color='green', linestyle='--')\n",
        "\n",
        "    ax_dos.set_xlim(0, max(dos) * 1.1)\n",
        "    ax_dos.set_xticks([0, 5, 10])\n",
        "    ax_dos.set_yticks(np.arange(-10, 11, 5))\n",
        "    ax_dos.set_yticklabels([])  # No y-ticks on DOS\n",
        "    ax_dos.tick_params(axis='y', left=False)\n",
        "\n",
        "    if i != len(compounds) - 1:\n",
        "        ax_dos.set_xticklabels([])\n",
        "        ax_dos.tick_params(axis='x', bottom=False)\n",
        "    else:\n",
        "        ax_dos.set_xlabel(\"DOS\")\n",
        "\n",
        "# Add bottom label for k-point axis\n",
        "fig.get_axes()[-2].set_xlabel(\"Band Structure\")\n",
        "\n",
        "# Adjust layout manually\n",
        "fig.subplots_adjust(left=0.1, right=0.95, top=0.96, bottom=0.06, hspace=0.3, wspace=0.1)\n",
        "plt.savefig('band-dos-combined-stacked.png', dpi=300)\n",
        "plt.show()"
      ],
      "metadata": {
        "id": "Sjryu8IS0ZbC"
      },
      "execution_count": null,
      "outputs": []
    },
    {
      "cell_type": "markdown",
      "source": [
        "Congratulations! You have now successfully plotted and analyzed the electronic properties of your material. If some properties you need are not included in this notebook, you are encouraged to extend it by building your own code or consulting other resources. For beginners in Python, it is perfectly fine to seek help—whether from peers or AI tools—but always make sure that the code you create or adapt produces the correct plots. As a good practice, test your workflow first on materials with available reference plots (for example, you may ask the notebook owner for his internship reports where various materials were studied and benchmarked). Best of luck on your DFT journey!"
      ],
      "metadata": {
        "id": "DBHFKbN2E10m"
      }
    },
    {
      "cell_type": "markdown",
      "source": [
        "Jericho Ross R. Operio, BS Chemistry Class of 2025"
      ],
      "metadata": {
        "id": "krxSaOY8GUEW"
      }
    },
    {
      "cell_type": "markdown",
      "source": [
        "https://www.linkedin.com/in/jericho-ross-o-74a850344/"
      ],
      "metadata": {
        "id": "smabs9oJGxYy"
      }
    },
    {
      "cell_type": "markdown",
      "source": [
        "https://www.facebook.com/jrroperio"
      ],
      "metadata": {
        "id": "UHUyNpDmGyht"
      }
    }
  ]
}